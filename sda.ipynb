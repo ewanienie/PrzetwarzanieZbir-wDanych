{
 "cells": [
  {
   "cell_type": "raw",
   "id": "35e7a3b1-05aa-4c11-825b-6d2706f45577",
   "metadata": {
    "tags": []
   },
   "source": [
    "print(\"hello, sda\")"
   ]
  },
  {
   "cell_type": "code",
   "execution_count": 1,
   "id": "356cc9a9-f2c5-4700-aa77-85e3eb71d04a",
   "metadata": {},
   "outputs": [
    {
     "ename": "SyntaxError",
     "evalue": "invalid syntax (1780316129.py, line 1)",
     "output_type": "error",
     "traceback": [
      "\u001b[1;36m  Input \u001b[1;32mIn [1]\u001b[1;36m\u001b[0m\n\u001b[1;33m    print{\"hello, sda\"}\u001b[0m\n\u001b[1;37m          ^\u001b[0m\n\u001b[1;31mSyntaxError\u001b[0m\u001b[1;31m:\u001b[0m invalid syntax\n"
     ]
    }
   ],
   "source": [
    "print{\"hello, sda\"}"
   ]
  },
  {
   "cell_type": "code",
   "execution_count": 2,
   "id": "ca857f12-5e2b-4423-9ce6-642098015666",
   "metadata": {},
   "outputs": [
    {
     "name": "stdout",
     "output_type": "stream",
     "text": [
      "hello, sda\n"
     ]
    }
   ],
   "source": [
    "print(\"hello, sda\")"
   ]
  },
  {
   "cell_type": "code",
   "execution_count": 3,
   "id": "f302b312-cdb6-4011-b88c-7ae5ea9a7e9b",
   "metadata": {},
   "outputs": [],
   "source": [
    "import pandas as pd"
   ]
  },
  {
   "cell_type": "code",
   "execution_count": null,
   "id": "f39b8289-4e0a-4118-bf40-c6fbf0d63cd4",
   "metadata": {},
   "outputs": [],
   "source": []
  }
 ],
 "metadata": {
  "kernelspec": {
   "display_name": "venv_ewa_sda",
   "language": "python",
   "name": "venv_ewa_sda"
  },
  "language_info": {
   "codemirror_mode": {
    "name": "ipython",
    "version": 3
   },
   "file_extension": ".py",
   "mimetype": "text/x-python",
   "name": "python",
   "nbconvert_exporter": "python",
   "pygments_lexer": "ipython3",
   "version": "3.9.0"
  }
 },
 "nbformat": 4,
 "nbformat_minor": 5
}
